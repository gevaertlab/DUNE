{
 "cells": [
  {
   "cell_type": "code",
   "execution_count": 5,
   "metadata": {},
   "outputs": [],
   "source": [
    "import pandas as pd\n",
    "import umap\n",
    "import matplotlib.pyplot as plt\n",
    "import numpy as np\n",
    "import seaborn as sns\n",
    "from matplotlib.backends.backend_pdf import PdfPages\n",
    "from tqdm import tqdm\n",
    "\n",
    "import os\n",
    "\n",
    "\n",
    "os.chdir(\"/home/tbarba/projects/MultiModalBrainSurvival\")"
   ]
  },
  {
   "cell_type": "code",
   "execution_count": 4,
   "metadata": {},
   "outputs": [],
   "source": [
    "def create_embeddings(features_path, meta_path):\n",
    "    data = pd.read_csv(features_path, index_col=\"eid\").sort_index()\n",
    "    reducer = umap.UMAP()\n",
    "    embedding = reducer.fit_transform(data)\n",
    "    metadata = pd.read_csv(meta_path,index_col=\"eid\").sort_index()\n",
    "\n",
    "    return embedding, metadata\n",
    "\n",
    "\n",
    "def plot_graph(var, embedding, metadata):\n",
    "    fig, ax = plt.subplots(figsize=(4, 4))\n",
    "\n",
    "    scatter = ax.scatter(\n",
    "        embedding[:, 0],\n",
    "        embedding[:, 1], s=1,\n",
    "        # c = [sns.color_palette()[x] for x in metadata.APOE]\n",
    "        c=metadata[var]\n",
    "    )\n",
    "    legend = ax.legend(*scatter.legend_elements(),\n",
    "                    loc=\"upper left\",\n",
    "                    prop = { \"size\": \"small\"}, fontsize=\"small\",\n",
    "                    markerscale=0.5,\n",
    "                    title_fontsize=\"small\",\n",
    "                    title=\"Legend\")\n",
    "    ax.add_artist(legend)\n",
    "    ax.set_title(var)\n",
    "    plt.close()\n",
    "\n",
    "    return fig"
   ]
  },
  {
   "cell_type": "code",
   "execution_count": 6,
   "metadata": {},
   "outputs": [
    {
     "name": "stderr",
     "output_type": "stream",
     "text": [
      "100%|\u001b[34m██████████\u001b[0m| 10/10 [00:19<00:00,  1.93s/it]\n"
     ]
    }
   ],
   "source": [
    "mod = \"uVAE/uVAE_UKB\"\n",
    "\n",
    "meta = \"/home/tbarba/projects/MultiModalBrainSurvival/data/MR/UKBIOBANK/metadata/0-imputed.csv.gz\"\n",
    "features = f\"/home/tbarba/projects/MultiModalBrainSurvival/outputs/{mod}/exports/features/whole_brain.csv.gz\"\n",
    "\n",
    "embedding, metadata = create_embeddings(features, meta)\n",
    "\n",
    "\n",
    "for var in tqdm(metadata.columns[:10], colour=\"blue\"):\n",
    "    with PdfPages(\"foo.pdf\") as pp:\n",
    "        pp.savefig(plot_graph(var, embedding, metadata))\n",
    "\n"
   ]
  }
 ],
 "metadata": {
  "kernelspec": {
   "display_name": "analysis",
   "language": "python",
   "name": "python3"
  },
  "language_info": {
   "codemirror_mode": {
    "name": "ipython",
    "version": 3
   },
   "file_extension": ".py",
   "mimetype": "text/x-python",
   "name": "python",
   "nbconvert_exporter": "python",
   "pygments_lexer": "ipython3",
   "version": "3.9.16"
  },
  "orig_nbformat": 4
 },
 "nbformat": 4,
 "nbformat_minor": 2
}
