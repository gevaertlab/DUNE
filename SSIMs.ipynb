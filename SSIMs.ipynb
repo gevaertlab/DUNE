{
 "cells": [
  {
   "cell_type": "markdown",
   "metadata": {},
   "source": [
    "# COHORTS SSIM"
   ]
  },
  {
   "cell_type": "code",
   "execution_count": 1,
   "metadata": {},
   "outputs": [
    {
     "name": "stderr",
     "output_type": "stream",
     "text": [
      "/share/pi/ogevaert/thomas/miniconda/envs/multimodal/lib/python3.9/site-packages/tqdm/auto.py:21: TqdmWarning: IProgress not found. Please update jupyter and ipywidgets. See https://ipywidgets.readthedocs.io/en/stable/user_install.html\n",
      "  from .autonotebook import tqdm as notebook_tqdm\n"
     ]
    }
   ],
   "source": [
    "import torch\n",
    "from datasets import BrainImages, SingleMod\n",
    "\n",
    "\n",
    "testLoader = \"/home/tbarba/projects/MultiModalBrainSurvival/outputs/norm/AE_sel2/exports/testLoader.pth\"\n",
    "testLoader = torch.load(testLoader)"
   ]
  },
  {
   "cell_type": "code",
   "execution_count": 2,
   "metadata": {},
   "outputs": [
    {
     "ename": "ModuleNotFoundError",
     "evalue": "No module named 'src'",
     "output_type": "error",
     "traceback": [
      "\u001b[0;31m---------------------------------------------------------------------------\u001b[0m",
      "\u001b[0;31mModuleNotFoundError\u001b[0m                       Traceback (most recent call last)",
      "\u001b[1;32m/home/tbarba/projects/MultiModalBrainSurvival/src/autoencoder/SSIMs.ipynb Cell 3\u001b[0m in \u001b[0;36m1\n\u001b[0;32m----> <a href='vscode-notebook-cell://ssh-remote%2Bcarina/home/tbarba/projects/MultiModalBrainSurvival/src/autoencoder/SSIMs.ipynb#W2sdnNjb2RlLXJlbW90ZQ%3D%3D?line=0'>1</a>\u001b[0m \u001b[39mimport\u001b[39;00m \u001b[39msrc\u001b[39;00m\u001b[39m.\u001b[39;00m\u001b[39mautoencoder\u001b[39;00m\u001b[39m.\u001b[39;00m\u001b[39mmodels\u001b[39;00m\u001b[39m.\u001b[39;00m\u001b[39mclassicalAE\u001b[39;00m \u001b[39mas\u001b[39;00m \u001b[39mcae\u001b[39;00m\n\u001b[1;32m      <a href='vscode-notebook-cell://ssh-remote%2Bcarina/home/tbarba/projects/MultiModalBrainSurvival/src/autoencoder/SSIMs.ipynb#W2sdnNjb2RlLXJlbW90ZQ%3D%3D?line=1'>2</a>\u001b[0m \u001b[39mimport\u001b[39;00m \u001b[39msrc\u001b[39;00m\u001b[39m.\u001b[39;00m\u001b[39mautoencoder\u001b[39;00m\u001b[39m.\u001b[39;00m\u001b[39mmodels\u001b[39;00m\u001b[39m.\u001b[39;00m\u001b[39mVAEs\u001b[39;00m \u001b[39mas\u001b[39;00m \u001b[39mvae\u001b[39;00m\n\u001b[1;32m      <a href='vscode-notebook-cell://ssh-remote%2Bcarina/home/tbarba/projects/MultiModalBrainSurvival/src/autoencoder/SSIMs.ipynb#W2sdnNjb2RlLXJlbW90ZQ%3D%3D?line=3'>4</a>\u001b[0m \u001b[39mimport\u001b[39;00m \u001b[39mtorch\u001b[39;00m\n",
      "\u001b[0;31mModuleNotFoundError\u001b[0m: No module named 'src'"
     ]
    }
   ],
   "source": [
    "import src.autoencoder.models.classicalAE as cae\n",
    "import src.autoencoder.models.VAEs as vae\n",
    "\n",
    "import torch\n",
    "import torch.nn as nn\n",
    "import nibabel as nib\n",
    "import torchio as tio\n",
    "import numpy as np\n",
    "import matplotlib.pyplot as plt\n",
    "from monai.losses.ssim_loss import SSIMLoss\n"
   ]
  },
  {
   "cell_type": "code",
   "execution_count": null,
   "metadata": {},
   "outputs": [
    {
     "name": "stdout",
     "output_type": "stream",
     "text": [
      "================> [4, 8, 16, 32, 64, 128] 256\n"
     ]
    },
    {
     "data": {
      "text/plain": [
       "<All keys matched successfully>"
      ]
     },
     "metadata": {},
     "output_type": "display_data"
    }
   ],
   "source": [
    "model = \"AE_sel2\"\n",
    "type_ae = model.split(\"_\")[0].lower()\n",
    "\n",
    "if type_ae == \"vae3d\":\n",
    "    net = vae.VAE3D([182, 218, 160], 1, latent_dim=2048)\n",
    "elif type_ae == \"uvae\":\n",
    "    net = vae.U_VAE(in_channels=1,  init_features=4,\n",
    "                    num_blocks=6, input_dim=[182, 218, 160],\n",
    "                    attention=None, hidden_size=2048)\n",
    "else:\n",
    "    net = cae.BaseAE(in_channels=1,\n",
    "                     init_features=4, num_blocks=6, type_ae=type_ae,\n",
    "                     dropout=0.1, attention=None)\n",
    "\n",
    "\n",
    "net = nn.DataParallel(net)\n",
    "bckp = torch.load(f\"/home/tbarba/projects/MultiModalBrainSurvival/outputs/norm/{model}/exports/best_model.pt\")\n",
    "net.load_state_dict(bckp)"
   ]
  },
  {
   "cell_type": "code",
   "execution_count": null,
   "metadata": {},
   "outputs": [],
   "source": [
    "def compute_ssim(orig_nifti, output):\n",
    "    ssim_func = SSIMLoss(spatial_dims=3)\n",
    "\n",
    "    imgs = nib.load(orig_nifti)\n",
    "    rescale = tio.RescaleIntensity(out_min_max=(0, 1))\n",
    "    imgs = rescale(imgs).get_fdata()\n",
    "    imgs = np.array(imgs, dtype=np.float16)\n",
    "    imgs = np.expand_dims(imgs, axis=0)  # adding channel dim\n",
    "    imgs = imgs.transpose((0, 3, 2, 1))  # reorder channels\n",
    "    imgs = np.expand_dims(imgs, axis=0)  # adding batch dim\n",
    "    orig = torch.Tensor(imgs)\n",
    "\n",
    "    ssim_loss = ssim_func(orig, output, data_range=orig.max()).item()\n",
    "    ssim = 1 - ssim_loss\n",
    "    \n",
    "    return ssim\n",
    "\n",
    "\n",
    "net.eval()\n",
    "\n",
    "image = \"/home/tbarba/projects/MultiModalBrainSurvival/data/MR/TCGA/processed/TCGA-HT-8114/normT2_crop.nii.gz\"\n",
    "orig = nib.load(image).get_fdata()\n",
    "output, embedding = net.module.process_nifti(image)\n",
    "reconstructed = output.squeeze().detach().numpy().transpose((2,1,0))\n",
    "images = {\"orig\":orig, \"recontr\":reconstructed}\n",
    "\n",
    "ssim = compute_ssim(image, output)\n",
    "\n"
   ]
  },
  {
   "cell_type": "code",
   "execution_count": 4,
   "metadata": {},
   "outputs": [],
   "source": [
    "from datasets import SingleMod\n",
    "\n",
    "a = torch.load(\"/home/tbarba/projects/MultiModalBrainSurvival/data/outputs/norm/AE_sel2/exports/testLoader.pth\")"
   ]
  },
  {
   "cell_type": "code",
   "execution_count": 10,
   "metadata": {},
   "outputs": [],
   "source": [
    "testLoader.num_workers = 0"
   ]
  },
  {
   "cell_type": "code",
   "execution_count": 20,
   "metadata": {},
   "outputs": [
    {
     "name": "stderr",
     "output_type": "stream",
     "text": [
      "55it [06:28,  7.06s/it]\n"
     ]
    }
   ],
   "source": [
    "from tqdm import tqdm\n",
    "\n",
    "test_cohort = []\n",
    "for i, a in tqdm(enumerate(testLoader)):\n",
    "    test_cohort.extend(list(set([f.split(\"__\")[0] for f in a[1]])))"
   ]
  },
  {
   "cell_type": "code",
   "execution_count": 24,
   "metadata": {},
   "outputs": [],
   "source": [
    "import pandas as pd\n",
    "pd.DataFrame(test_cohort).to_csv(\"test_loader.csv\", index=False)"
   ]
  },
  {
   "cell_type": "code",
   "execution_count": 25,
   "metadata": {},
   "outputs": [
    {
     "data": {
      "text/plain": [
       "760"
      ]
     },
     "execution_count": 25,
     "metadata": {},
     "output_type": "execute_result"
    }
   ],
   "source": [
    "len(test_cohort)"
   ]
  },
  {
   "cell_type": "code",
   "execution_count": null,
   "metadata": {},
   "outputs": [],
   "source": []
  }
 ],
 "metadata": {
  "kernelspec": {
   "display_name": "multimodal",
   "language": "python",
   "name": "python3"
  },
  "language_info": {
   "codemirror_mode": {
    "name": "ipython",
    "version": 3
   },
   "file_extension": ".py",
   "mimetype": "text/x-python",
   "name": "python",
   "nbconvert_exporter": "python",
   "pygments_lexer": "ipython3",
   "version": "3.9.0"
  },
  "orig_nbformat": 4
 },
 "nbformat": 4,
 "nbformat_minor": 2
}
