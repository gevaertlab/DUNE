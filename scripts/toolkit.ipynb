{
 "cells": [
  {
   "cell_type": "code",
   "execution_count": 8,
   "metadata": {},
   "outputs": [],
   "source": [
    "import nibabel as nib\n",
    "from matplotlib import pyplot as plt\n",
    "import torchio as tio"
   ]
  },
  {
   "cell_type": "code",
   "execution_count": 1,
   "metadata": {},
   "outputs": [
    {
     "name": "stderr",
     "output_type": "stream",
     "text": [
      "100%|██████████| 100/100 [01:40<00:00,  1.00s/it]\n"
     ]
    }
   ],
   "source": [
    "from tqdm import trange\n",
    "from time import sleep\n",
    "\n",
    "for i in trange(100):\n",
    "    sleep(1)"
   ]
  },
  {
   "cell_type": "code",
   "execution_count": 8,
   "metadata": {},
   "outputs": [
    {
     "ename": "RuntimeError",
     "evalue": "Index tensor must have the same number of dimensions as input tensor",
     "output_type": "error",
     "traceback": [
      "\u001b[0;31m---------------------------------------------------------------------------\u001b[0m",
      "\u001b[0;31mRuntimeError\u001b[0m                              Traceback (most recent call last)",
      "Cell \u001b[0;32mIn [8], line 6\u001b[0m\n\u001b[1;32m      2\u001b[0m t \u001b[39m=\u001b[39m torch\u001b[39m.\u001b[39mtensor([[\u001b[39m9\u001b[39m], [\u001b[39m9\u001b[39m]])\n\u001b[1;32m      3\u001b[0m y \u001b[39m=\u001b[39m torch\u001b[39m.\u001b[39mtensor([\u001b[39m1\u001b[39m,\u001b[39m2\u001b[39m])\n\u001b[0;32m----> 6\u001b[0m torch\u001b[39m.\u001b[39;49mgather(t, dim\u001b[39m=\u001b[39;49m\u001b[39m1\u001b[39;49m, index\u001b[39m=\u001b[39;49m y)\n",
      "\u001b[0;31mRuntimeError\u001b[0m: Index tensor must have the same number of dimensions as input tensor"
     ]
    }
   ],
   "source": [
    "import torch\n",
    "t = torch.tensor([[9], [9]])\n",
    "y = torch.tensor([1,2])\n",
    "\n",
    "\n",
    "torch.gather(t, dim=1, index= y)"
   ]
  },
  {
   "cell_type": "code",
   "execution_count": 8,
   "metadata": {},
   "outputs": [],
   "source": [
    "import pandas as pd\n",
    "n=6\n",
    "df = pd.read_csv(\"data/survival/survival_data.csv\")\n",
    "df['survival_bin'] = pd.qcut(df['survival_months'], n, labels = [x for x in range(n)])\n",
    "df['survival_bin'].value_counts()\n",
    "\n",
    "df.to_csv(\"data/survival/TCGA_survival_bins.csv\")"
   ]
  },
  {
   "cell_type": "code",
   "execution_count": null,
   "metadata": {},
   "outputs": [],
   "source": []
  }
 ],
 "metadata": {
  "kernelspec": {
   "display_name": "Python 3.9.0 ('multimodal')",
   "language": "python",
   "name": "python3"
  },
  "language_info": {
   "codemirror_mode": {
    "name": "ipython",
    "version": 3
   },
   "file_extension": ".py",
   "mimetype": "text/x-python",
   "name": "python",
   "nbconvert_exporter": "python",
   "pygments_lexer": "ipython3",
   "version": "3.9.0"
  },
  "orig_nbformat": 4,
  "vscode": {
   "interpreter": {
    "hash": "3912f28b9b2221de22e6cbc3ccde8326fd673d3f8bd54942b291cc59bdc1ddcf"
   }
  }
 },
 "nbformat": 4,
 "nbformat_minor": 2
}
