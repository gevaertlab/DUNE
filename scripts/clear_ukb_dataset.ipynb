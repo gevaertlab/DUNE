{
 "cells": [
  {
   "cell_type": "code",
   "execution_count": 5,
   "metadata": {},
   "outputs": [
    {
     "name": "stdout",
     "output_type": "stream",
     "text": [
      "removing 1557157\n"
     ]
    },
    {
     "ename": "NameError",
     "evalue": "name 'shutil' is not defined",
     "output_type": "error",
     "traceback": [
      "\u001b[0;31m---------------------------------------------------------------------------\u001b[0m",
      "\u001b[0;31mIndexError\u001b[0m                                Traceback (most recent call last)",
      "Cell \u001b[0;32mIn [5], line 13\u001b[0m\n\u001b[1;32m     12\u001b[0m t1 \u001b[39m=\u001b[39m [join(casedir,f) \u001b[39mfor\u001b[39;00m f \u001b[39min\u001b[39;00m os\u001b[39m.\u001b[39mlistdir(casedir) \u001b[39mif\u001b[39;00m \u001b[39m\"\u001b[39m\u001b[39mT1\u001b[39m\u001b[39m\"\u001b[39m \u001b[39min\u001b[39;00m f][\u001b[39m0\u001b[39m]\n\u001b[0;32m---> 13\u001b[0m flair \u001b[39m=\u001b[39m [join(casedir,f) \u001b[39mfor\u001b[39;49;00m f \u001b[39min\u001b[39;49;00m os\u001b[39m.\u001b[39;49mlistdir(casedir) \u001b[39mif\u001b[39;49;00m \u001b[39m\"\u001b[39;49m\u001b[39mFLAIR\u001b[39;49m\u001b[39m\"\u001b[39;49m \u001b[39min\u001b[39;49;00m f][\u001b[39m0\u001b[39;49m]\n\u001b[1;32m     14\u001b[0m t1 \u001b[39m=\u001b[39m np\u001b[39m.\u001b[39marray(nib\u001b[39m.\u001b[39mload(t1)\u001b[39m.\u001b[39mget_fdata()\u001b[39m.\u001b[39mtranspose((\u001b[39m2\u001b[39m,\u001b[39m1\u001b[39m,\u001b[39m0\u001b[39m)))\n",
      "\u001b[0;31mIndexError\u001b[0m: list index out of range",
      "\nDuring handling of the above exception, another exception occurred:\n",
      "\u001b[0;31mNameError\u001b[0m                                 Traceback (most recent call last)",
      "Cell \u001b[0;32mIn [5], line 19\u001b[0m\n\u001b[1;32m     17\u001b[0m     \u001b[39mprint\u001b[39m(\u001b[39m\"\u001b[39m\u001b[39mremoving\u001b[39m\u001b[39m\"\u001b[39m, case)\n\u001b[1;32m     18\u001b[0m     bugs\u001b[39m.\u001b[39mappend(case)\n\u001b[0;32m---> 19\u001b[0m     shutil\u001b[39m.\u001b[39mrmtree(casedir)\n\u001b[1;32m     20\u001b[0m \u001b[39mtry\u001b[39;00m:\n\u001b[1;32m     21\u001b[0m     stack \u001b[39m=\u001b[39m np\u001b[39m.\u001b[39marray([t1, t2f])\n",
      "\u001b[0;31mNameError\u001b[0m: name 'shutil' is not defined"
     ]
    }
   ],
   "source": [
    "import os\n",
    "import nibabel as nib\n",
    "import numpy as np\n",
    "from  torch import tensor as t\n",
    "from os.path import join\n",
    "import shutil\n",
    "from alive_progress import alive_bar\n",
    "\n",
    "ROOT = \"/home/tbarba/projects/MultiModalBrainSurvival/data/data_fusion/MR/UKBIOBANK/\"\n",
    "bugs = []\n",
    "\n",
    "with alive_bar(len(os.listdir(ROOT))) as bar:\n",
    "    for case in os.listdir(ROOT):\n",
    "        casedir = join(ROOT, case)\n",
    "        try:\n",
    "            t1 = [join(casedir,f) for f in os.listdir(casedir) if \"T1\" in f][0]\n",
    "            flair = [join(casedir,f) for f in os.listdir(casedir) if \"FLAIR\" in f][0]\n",
    "            t1 = np.array(nib.load(t1).get_fdata().transpose((2,1,0)))\n",
    "            t2f = np.array(nib.load(flair).get_fdata().transpose((2,1,0)))\n",
    "        except IndexError:\n",
    "            print(\"removing\", case)\n",
    "            bugs.append(case)\n",
    "            shutil.rmtree(casedir)\n",
    "        try:\n",
    "            stack = np.array([t1, t2f])\n",
    "            fin = t(stack)\n",
    "        except TypeError as e:\n",
    "            print(\"removing\", case)\n",
    "            print(e)\n",
    "            bugs.append(case)\n",
    "            shutil.rmtree(casedir)\n",
    "            pass\n",
    "\n",
    "        bar()\n",
    "\n"
   ]
  },
  {
   "cell_type": "code",
   "execution_count": 23,
   "metadata": {},
   "outputs": [
    {
     "name": "stdout",
     "output_type": "stream",
     "text": [
      "1079429\n",
      "(205, 228, 175)\n",
      "(183, 224, 170)\n"
     ]
    },
    {
     "name": "stderr",
     "output_type": "stream",
     "text": [
      "/tmp/ipykernel_34910/2645404425.py:8: VisibleDeprecationWarning: Creating an ndarray from ragged nested sequences (which is a list-or-tuple of lists-or-tuples-or ndarrays with different lengths or shapes) is deprecated. If you meant to do this, you must specify 'dtype=object' when creating the ndarray.\n",
      "  stack = np.array([t1, t2f])\n"
     ]
    }
   ],
   "source": [
    "t1 = \"/home/tbarba/projects/MultiModalBrainSurvival/data/data_fusion/MR/UKBIOBANK/1079429/1079429_T1.nii.gz\"\n",
    "t2f = \"/home/tbarba/projects/MultiModalBrainSurvival/data/data_fusion/MR/UKBIOBANK/1079429/1079429_T2-FLAIR.nii.gz\"\n",
    "\n",
    "\n",
    "t1 = np.array(nib.load(t1).get_fdata().transpose((2,1,0)))\n",
    "t2f = np.array(nib.load(flair).get_fdata().transpose((2,1,0)))\n",
    "\n",
    "stack = np.array([t1, t2f])\n",
    "print(case)\n",
    "print(t1.shape)\n",
    "print(t2f.shape)"
   ]
  }
 ],
 "metadata": {
  "kernelspec": {
   "display_name": "Python 3.9.0 ('multimodal')",
   "language": "python",
   "name": "python3"
  },
  "language_info": {
   "codemirror_mode": {
    "name": "ipython",
    "version": 3
   },
   "file_extension": ".py",
   "mimetype": "text/x-python",
   "name": "python",
   "nbconvert_exporter": "python",
   "pygments_lexer": "ipython3",
   "version": "3.9.0"
  },
  "orig_nbformat": 4,
  "vscode": {
   "interpreter": {
    "hash": "3912f28b9b2221de22e6cbc3ccde8326fd673d3f8bd54942b291cc59bdc1ddcf"
   }
  }
 },
 "nbformat": 4,
 "nbformat_minor": 2
}
