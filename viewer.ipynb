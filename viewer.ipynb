{
 "cells": [
  {
   "cell_type": "code",
   "execution_count": 8,
   "metadata": {},
   "outputs": [],
   "source": [
    "import nibabel as nib\n",
    "from matplotlib import pyplot as plt\n",
    "import torchio as tio"
   ]
  },
  {
   "cell_type": "code",
   "execution_count": 14,
   "metadata": {},
   "outputs": [
    {
     "name": "stdout",
     "output_type": "stream",
     "text": [
      "Initializing...\n",
      "Parameters: bt=0.500000, d1=20.000000, d2=10.000000, rmin=3.330000, rmax=10.000000\n",
      "tmin: -70.408485, t2: 0.000000, t: 30.691855, t98: 306.918549, tmax: 644.424500\n",
      "Center-of-Mass: [117.78426512 113.65183545  72.73889737]\n",
      "Head Radius: 94.076875\n",
      "Median within Head Radius: 108.986458\n",
      "Initializing surface...\n",
      "Brain extractor initialization complete!\n",
      "Running surface deformation...\n",
      "Iteration: 999\n",
      "Complete.\n"
     ]
    }
   ],
   "source": [
    "img_path = \"data/MR/REMBRANDTVerified/HF0828=/flair_t1_bcorr.nii\"\n",
    "\n",
    "resample = tio.Resample(1, image_interpolation='bspline')\n",
    "nifti = nib.load(img_path)\n",
    "new_nifti = resample(nifti)\n",
    "\n",
    "extracted = BrainExtractor(img=new_nifti)\n",
    "extracted.run()\n",
    "\n",
    "\n",
    "# img = new_nifti.get_fdata()\n",
    "# plt.imshow(img[:,:,10] )\n",
    "# print(img.shape)"
   ]
  },
  {
   "cell_type": "code",
   "execution_count": 1,
   "metadata": {},
   "outputs": [
    {
     "name": "stderr",
     "output_type": "stream",
     "text": [
      "100%|██████████| 100/100 [01:40<00:00,  1.00s/it]\n"
     ]
    }
   ],
   "source": [
    "from tqdm import trange\n",
    "from time import sleep\n",
    "\n",
    "for i in trange(100):\n",
    "    sleep(1)"
   ]
  },
  {
   "cell_type": "code",
   "execution_count": null,
   "metadata": {},
   "outputs": [],
   "source": []
  }
 ],
 "metadata": {
  "kernelspec": {
   "display_name": "Python 3.9.0 ('multimodal')",
   "language": "python",
   "name": "python3"
  },
  "language_info": {
   "codemirror_mode": {
    "name": "ipython",
    "version": 3
   },
   "file_extension": ".py",
   "mimetype": "text/x-python",
   "name": "python",
   "nbconvert_exporter": "python",
   "pygments_lexer": "ipython3",
   "version": "3.9.0"
  },
  "orig_nbformat": 4,
  "vscode": {
   "interpreter": {
    "hash": "3912f28b9b2221de22e6cbc3ccde8326fd673d3f8bd54942b291cc59bdc1ddcf"
   }
  }
 },
 "nbformat": 4,
 "nbformat_minor": 2
}
