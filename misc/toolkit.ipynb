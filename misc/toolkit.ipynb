{
 "cells": [
  {
   "cell_type": "code",
   "execution_count": 2,
   "metadata": {},
   "outputs": [
    {
     "name": "stderr",
     "output_type": "stream",
     "text": [
      "/labs/gevaertlab/users/thomas/miniconda/envs/multimodal/lib/python3.9/site-packages/tqdm/auto.py:22: TqdmWarning: IProgress not found. Please update jupyter and ipywidgets. See https://ipywidgets.readthedocs.io/en/stable/user_install.html\n",
      "  from .autonotebook import tqdm as notebook_tqdm\n"
     ]
    }
   ],
   "source": [
    "import os\n",
    "from os.path import isdir, exists, join\n",
    "import nibabel as nib\n",
    "from matplotlib import pyplot as plt\n",
    "import torchio as tio\n",
    "from multiprocessing import Pool\n"
   ]
  },
  {
   "cell_type": "markdown",
   "metadata": {},
   "source": [
    "# Create Brain masks"
   ]
  },
  {
   "cell_type": "code",
   "execution_count": null,
   "metadata": {},
   "outputs": [],
   "source": [
    "DATA_DIR = \"../data/MR/REMBRANDT\"\n",
    "cases = [f for f in os.listdir(DATA_DIR) if isdir(join(DATA_DIR, f))]\n",
    "\n",
    "def create_mask(case):\n",
    "    if not exists(join(DATA_DIR, case, \"brain_mask.nii.gz\")):\n",
    "        print(f\"\\nProcessing {case}\")\n",
    "        t1_path = [join(DATA_DIR, case,f) for f in os.listdir(join(DATA_DIR, case)) if \"t1\" in f.lower()][0]\n",
    "        img = nib.load(t1_path)\n",
    "        brain_mask = (img.get_fdata() > 1)\n",
    "        brain_mask = brain_mask.astype(float)\n",
    "        final_brain_mask = nib.Nifti1Image(brain_mask, img.affine)  \n",
    "        nib.save(final_brain_mask, join(DATA_DIR, case, \"brain_mask.nii.gz\"))\n",
    "    else:\n",
    "        print(f\"\\n{case} Already masked.\")\n",
    "\n",
    "\n",
    "pool = Pool(20)\n",
    "pool.map(create_mask,cases)"
   ]
  },
  {
   "cell_type": "markdown",
   "metadata": {},
   "source": [
    "# Viewer"
   ]
  },
  {
   "cell_type": "code",
   "execution_count": 69,
   "metadata": {},
   "outputs": [],
   "source": [
    "import nibabel as nib\n",
    "import matplotlib.pyplot as plt\n",
    "import torchio as tio\n",
    "\n",
    "# img = nib.load(\"/home/tbarba/projects/MultiModalBrainSurvival/data/MR/REMBRANDT/HF1139/HF1139_flair.nii\")\n",
    "img = nib.load(\"/home/tbarba/projects/MultiModalBrainSurvival/data/MR/UCSF/UCSF-PDGM-0004_nifti/UCSF-PDGM-0004_T1c.nii.gz\")\n",
    "\n",
    "resample = tio.Resample(1, image_interpolation='linear')\n",
    "rescale = tio.RescaleIntensity(out_min_max=(0,255.0))\n",
    "\n",
    "img = resample(img)\n",
    "img = rescale(img)\n",
    "img = img.get_fdata()\n",
    "slice = img[:,:,30]\n",
    "plt.imshow(slice, cmap=\"Greys_r\")\n",
    "\n",
    "# img.min()"
   ]
  },
  {
   "cell_type": "code",
   "execution_count": 67,
   "metadata": {},
   "outputs": [
    {
     "name": "stdout",
     "output_type": "stream",
     "text": [
      "(155, 240, 240)\n"
     ]
    },
    {
     "data": {
      "text/plain": [
       "<matplotlib.image.AxesImage at 0x7f7d98533760>"
      ]
     },
     "execution_count": 67,
     "metadata": {},
     "output_type": "execute_result"
    },
    {
     "data": {
      "image/png": "[encoded data removed]",
      "text/plain": [
       "<Figure size 640x480 with 1 Axes>"
      ]
     },
     "metadata": {},
     "output_type": "display_data"
    }
   ],
   "source": [
    "# img = img.transpose((2, 1, 0))\n",
    "print(img.shape)\n",
    "slice = img[154,:,:]\n",
    "plt.imshow(slice, cmap=\"Greys_r\")\n"
   ]
  },
  {
   "cell_type": "markdown",
   "metadata": {},
   "source": [
    "# Create binned survival TCGA"
   ]
  },
  {
   "cell_type": "code",
   "execution_count": 2,
   "metadata": {},
   "outputs": [],
   "source": [
    "import pandas as pd\n",
    "n=4\n",
    "df = pd.read_csv(\"../data/metadata/TCGA_metadata.csv\", index_col=\"case\")\n",
    "df['survival_bin'] = pd.qcut(df['survival_months'], n, labels = [x for x in range(n)])\n",
    "df['survival_bin'].value_counts()\n",
    "\n",
    "df.to_csv(\"../data/metadata/TCGA_metadata.csv\", index=True)\n"
   ]
  },
  {
   "cell_type": "markdown",
   "metadata": {},
   "source": [
    "# Update UKB database"
   ]
  },
  {
   "cell_type": "code",
   "execution_count": 2,
   "metadata": {},
   "outputs": [
    {
     "ename": "IndentationError",
     "evalue": "expected an indented block (3010418809.py, line 11)",
     "output_type": "error",
     "traceback": [
      "\u001b[0;36m  Cell \u001b[0;32mIn [2], line 11\u001b[0;36m\u001b[0m\n\u001b[0;31m    # shutil.move(join(ROOT, \"UKBIOBANK\", f), join(ROOT, \"UKB_incomplete\", f))\u001b[0m\n\u001b[0m                                                                              ^\u001b[0m\n\u001b[0;31mIndentationError\u001b[0m\u001b[0;31m:\u001b[0m expected an indented block\n"
     ]
    }
   ],
   "source": [
    "from os.path import join\n",
    "import shutil\n",
    "\n",
    "actual = set(ls_dir(\"/home/tbarba/projects/MultiModalBrainSurvival/data/MR/UKBIOBANK\"))\n",
    "complete = set(pd.read_csv(\"/home/tbarba/projects/MultiModalBrainSurvival/complete.csv\")[\"eid\"].astype(str))\n",
    "\n",
    "ROOT = \"/home/tbarba/projects/MultiModalBrainSurvival/data/MR\"\n",
    "\n",
    "for f in ls_dir(ROOT + \"/UKBIOBANK\"):\n",
    "    if f not in complete:\n",
    "        # shutil.move(join(ROOT, \"UKBIOBANK\", f), join(ROOT, \"UKB_incomplete\", f))\n"
   ]
  },
  {
   "cell_type": "markdown",
   "metadata": {},
   "source": [
    "# Move from temp location"
   ]
  },
  {
   "cell_type": "code",
   "execution_count": 59,
   "metadata": {},
   "outputs": [
    {
     "data": {
      "text/plain": [
       "5924"
      ]
     },
     "execution_count": 59,
     "metadata": {},
     "output_type": "execute_result"
    }
   ],
   "source": [
    "FROM = \"/home/tbarba/storage/uk_biobank_2020/update/data/run41271/downloaded\"\n",
    "\n",
    "for case in ls_dir(FROM):\n",
    "    shutil.move(FROM+\"/\"+case, ROOT+\"/UKBIOBANK/\"+case)\n",
    "\n",
    "len(ls_dir(ROOT + \"/UKBIOBANK\"))\n"
   ]
  },
  {
   "attachments": {},
   "cell_type": "markdown",
   "metadata": {},
   "source": [
    "# TCGA Genetics"
   ]
  },
  {
   "cell_type": "code",
   "execution_count": 47,
   "metadata": {},
   "outputs": [],
   "source": [
    "import pandas as pd\n",
    "import json\n",
    "\n",
    "TCGA_meta = pd.read_csv(\"/home/tbarba/projects/MultiModalBrainSurvival/data/metadata/TCGA_survival_data.csv\")\n",
    "\n",
    "\n",
    "files = [\"R132H.json\", \"R132C.json\",\"R132G.json\",\"R132S.json\"]\n",
    "\n",
    "dict_muts = dict()\n",
    "for file in files:\n",
    "    with open(file, \"r\") as mutation:\n",
    "        mut = file[:-5]\n",
    "        mutation=  json.load(mutation)\n",
    "        mutation = {mutation[c][\"submitter_id\"]:mut for c in range(len(mutation))}\n",
    "        dict_muts.update(mutation)\n",
    "\n",
    "IDH1_mutations = []\n",
    "for i, row in TCGA_meta.iterrows():\n",
    "    try:\n",
    "        IDH1_mutations.append(dict_muts[TCGA_meta.iloc[i][\"case\"]])\n",
    "    except KeyError:\n",
    "        IDH1_mutations.append(\"WT\")\n",
    "\n",
    "TCGA_meta['IDH1']  = IDH1_mutations\n",
    "TCGA_meta['IDH1_bin'] = TCGA_meta['IDH1'] != \"WT\"\n",
    "\n",
    "TCGA_meta.to_csv(\"/home/tbarba/projects/MultiModalBrainSurvival/data/metadata/TCGA_survival_data.csv\", index=False)\n",
    "\n"
   ]
  },
  {
   "attachments": {},
   "cell_type": "markdown",
   "metadata": {},
   "source": [
    "# RENAME UCSF"
   ]
  },
  {
   "cell_type": "code",
   "execution_count": 10,
   "metadata": {},
   "outputs": [],
   "source": [
    "import os\n",
    "from os.path import join\n",
    "def ls_dir(path):\n",
    "    dirs = [d for d in os.listdir(path) if os.path.isdir(os.path.join(path, d))]\n",
    "    return dirs\n",
    "\n",
    "\n",
    "ROOT = \"/home/tbarba/projects/MultiModalBrainSurvival/data/MR/UCSF\"\n",
    "dirs = ls_dir(ROOT)\n",
    "\n",
    "\n",
    "for folder in dirs:\n",
    "    old = join(ROOT, folder)\n",
    "    new = join(ROOT, folder.replace(\"_nifti\", \"\"))\n",
    "    os.rename(old, new)\n"
   ]
  },
  {
   "cell_type": "code",
   "execution_count": 16,
   "metadata": {},
   "outputs": [],
   "source": [
    "from sklearn import metrics"
   ]
  },
  {
   "cell_type": "code",
   "execution_count": 17,
   "metadata": {},
   "outputs": [
    {
     "data": {
      "text/plain": [
       "['accuracy',\n",
       " 'adjusted_mutual_info_score',\n",
       " 'adjusted_rand_score',\n",
       " 'average_precision',\n",
       " 'balanced_accuracy',\n",
       " 'completeness_score',\n",
       " 'explained_variance',\n",
       " 'f1',\n",
       " 'f1_macro',\n",
       " 'f1_micro',\n",
       " 'f1_samples',\n",
       " 'f1_weighted',\n",
       " 'fowlkes_mallows_score',\n",
       " 'homogeneity_score',\n",
       " 'jaccard',\n",
       " 'jaccard_macro',\n",
       " 'jaccard_micro',\n",
       " 'jaccard_samples',\n",
       " 'jaccard_weighted',\n",
       " 'matthews_corrcoef',\n",
       " 'max_error',\n",
       " 'mutual_info_score',\n",
       " 'neg_brier_score',\n",
       " 'neg_log_loss',\n",
       " 'neg_mean_absolute_error',\n",
       " 'neg_mean_absolute_percentage_error',\n",
       " 'neg_mean_gamma_deviance',\n",
       " 'neg_mean_poisson_deviance',\n",
       " 'neg_mean_squared_error',\n",
       " 'neg_mean_squared_log_error',\n",
       " 'neg_median_absolute_error',\n",
       " 'neg_root_mean_squared_error',\n",
       " 'normalized_mutual_info_score',\n",
       " 'precision',\n",
       " 'precision_macro',\n",
       " 'precision_micro',\n",
       " 'precision_samples',\n",
       " 'precision_weighted',\n",
       " 'r2',\n",
       " 'rand_score',\n",
       " 'recall',\n",
       " 'recall_macro',\n",
       " 'recall_micro',\n",
       " 'recall_samples',\n",
       " 'recall_weighted',\n",
       " 'roc_auc',\n",
       " 'roc_auc_ovo',\n",
       " 'roc_auc_ovo_weighted',\n",
       " 'roc_auc_ovr',\n",
       " 'roc_auc_ovr_weighted',\n",
       " 'top_k_accuracy',\n",
       " 'v_measure_score']"
      ]
     },
     "execution_count": 17,
     "metadata": {},
     "output_type": "execute_result"
    }
   ],
   "source": [
    "metrics.get_scorer_names() "
   ]
  },
  {
   "cell_type": "code",
   "execution_count": null,
   "metadata": {},
   "outputs": [],
   "source": []
  }
 ],
 "metadata": {
  "kernelspec": {
   "display_name": "Python 3.9.0 ('multimodal')",
   "language": "python",
   "name": "python3"
  },
  "language_info": {
   "codemirror_mode": {
    "name": "ipython",
    "version": 3
   },
   "file_extension": ".py",
   "mimetype": "text/x-python",
   "name": "python",
   "nbconvert_exporter": "python",
   "pygments_lexer": "ipython3",
   "version": "3.9.0"
  },
  "orig_nbformat": 4,
  "vscode": {
   "interpreter": {
    "hash": "3912f28b9b2221de22e6cbc3ccde8326fd673d3f8bd54942b291cc59bdc1ddcf"
   }
  }
 },
 "nbformat": 4,
 "nbformat_minor": 2
}
