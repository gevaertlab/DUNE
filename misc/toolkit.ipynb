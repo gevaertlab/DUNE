{
 "cells": [
  {
   "cell_type": "code",
   "execution_count": 2,
   "metadata": {},
   "outputs": [
    {
     "name": "stderr",
     "output_type": "stream",
     "text": [
      "/labs/gevaertlab/users/thomas/miniconda/envs/multimodal/lib/python3.9/site-packages/tqdm/auto.py:22: TqdmWarning: IProgress not found. Please update jupyter and ipywidgets. See https://ipywidgets.readthedocs.io/en/stable/user_install.html\n",
      "  from .autonotebook import tqdm as notebook_tqdm\n"
     ]
    }
   ],
   "source": [
    "import os\n",
    "from os.path import isdir, exists, join\n",
    "import nibabel as nib\n",
    "from matplotlib import pyplot as plt\n",
    "import torchio as tio\n",
    "from multiprocessing import Pool\n"
   ]
  },
  {
   "cell_type": "markdown",
   "metadata": {},
   "source": [
    "# Create Brain masks"
   ]
  },
  {
   "cell_type": "code",
   "execution_count": null,
   "metadata": {},
   "outputs": [],
   "source": [
    "DATA_DIR = \"../data/MR/REMBRANDT\"\n",
    "cases = [f for f in os.listdir(DATA_DIR) if isdir(join(DATA_DIR, f))]\n",
    "\n",
    "def create_mask(case):\n",
    "    if not exists(join(DATA_DIR, case, \"brain_mask.nii.gz\")):\n",
    "        print(f\"\\nProcessing {case}\")\n",
    "        t1_path = [join(DATA_DIR, case,f) for f in os.listdir(join(DATA_DIR, case)) if \"t1\" in f.lower()][0]\n",
    "        img = nib.load(t1_path)\n",
    "        brain_mask = (img.get_fdata() > 1)\n",
    "        brain_mask = brain_mask.astype(float)\n",
    "        final_brain_mask = nib.Nifti1Image(brain_mask, img.affine)  \n",
    "        nib.save(final_brain_mask, join(DATA_DIR, case, \"brain_mask.nii.gz\"))\n",
    "    else:\n",
    "        print(f\"\\n{case} Already masked.\")\n",
    "\n",
    "\n",
    "pool = Pool(20)\n",
    "pool.map(create_mask,cases)"
   ]
  },
  {
   "cell_type": "markdown",
   "metadata": {},
   "source": [
    "# Viewer"
   ]
  },
  {
   "cell_type": "code",
   "execution_count": 25,
   "metadata": {},
   "outputs": [
    {
     "data": {
      "text/plain": [
       "0.0"
      ]
     },
     "execution_count": 25,
     "metadata": {},
     "output_type": "execute_result"
    },
    {
     "data": {
      "image/png": "[encoded data removed]",
      "text/plain": [
       "<Figure size 640x480 with 1 Axes>"
      ]
     },
     "metadata": {},
     "output_type": "display_data"
    }
   ],
   "source": [
    "import nibabel as nib\n",
    "import matplotlib.pyplot as plt\n",
    "import torchio as tio\n",
    "\n",
    "img = nib.load(\"/home/tbarba/projects/MultiModalBrainSurvival/data/MR/REMBRANDT/HF1139/HF1139_flair.nii\")\n",
    "\n",
    "resample = tio.Resample(1, image_interpolation='linear')\n",
    "rescale = tio.RescaleIntensity(out_min_max=(0,255.0))\n",
    "\n",
    "img = resample(img)\n",
    "img = rescale(img)\n",
    "img = img.get_fdata()\n",
    "slice = img[:,:,30]\n",
    "plt.imshow(slice, cmap=\"Greys_r\")\n",
    "\n",
    "img.min()"
   ]
  },
  {
   "cell_type": "markdown",
   "metadata": {},
   "source": [
    "# Create binned survival TCGA"
   ]
  },
  {
   "cell_type": "code",
   "execution_count": 2,
   "metadata": {},
   "outputs": [],
   "source": [
    "import pandas as pd\n",
    "n=4\n",
    "df = pd.read_csv(\"../data/metadata/TCGA_metadata.csv\", index_col=\"case\")\n",
    "df['survival_bin'] = pd.qcut(df['survival_months'], n, labels = [x for x in range(n)])\n",
    "df['survival_bin'].value_counts()\n",
    "\n",
    "df.to_csv(\"../data/metadata/TCGA_metadata.csv\", index=True)\n"
   ]
  },
  {
   "cell_type": "markdown",
   "metadata": {},
   "source": [
    "# Update UKB database"
   ]
  },
  {
   "cell_type": "code",
   "execution_count": 2,
   "metadata": {},
   "outputs": [
    {
     "ename": "IndentationError",
     "evalue": "expected an indented block (3010418809.py, line 11)",
     "output_type": "error",
     "traceback": [
      "\u001b[0;36m  Cell \u001b[0;32mIn [2], line 11\u001b[0;36m\u001b[0m\n\u001b[0;31m    # shutil.move(join(ROOT, \"UKBIOBANK\", f), join(ROOT, \"UKB_incomplete\", f))\u001b[0m\n\u001b[0m                                                                              ^\u001b[0m\n\u001b[0;31mIndentationError\u001b[0m\u001b[0;31m:\u001b[0m expected an indented block\n"
     ]
    }
   ],
   "source": [
    "from os.path import join\n",
    "import shutil\n",
    "\n",
    "actual = set(ls_dir(\"/home/tbarba/projects/MultiModalBrainSurvival/data/MR/UKBIOBANK\"))\n",
    "complete = set(pd.read_csv(\"/home/tbarba/projects/MultiModalBrainSurvival/complete.csv\")[\"eid\"].astype(str))\n",
    "\n",
    "ROOT = \"/home/tbarba/projects/MultiModalBrainSurvival/data/MR\"\n",
    "\n",
    "for f in ls_dir(ROOT + \"/UKBIOBANK\"):\n",
    "    if f not in complete:\n",
    "        # shutil.move(join(ROOT, \"UKBIOBANK\", f), join(ROOT, \"UKB_incomplete\", f))\n"
   ]
  },
  {
   "cell_type": "markdown",
   "metadata": {},
   "source": [
    "# Move from temp location"
   ]
  },
  {
   "cell_type": "code",
   "execution_count": 59,
   "metadata": {},
   "outputs": [
    {
     "data": {
      "text/plain": [
       "5924"
      ]
     },
     "execution_count": 59,
     "metadata": {},
     "output_type": "execute_result"
    }
   ],
   "source": [
    "FROM = \"/home/tbarba/storage/uk_biobank_2020/update/data/run41271/downloaded\"\n",
    "\n",
    "for case in ls_dir(FROM):\n",
    "    shutil.move(FROM+\"/\"+case, ROOT+\"/UKBIOBANK/\"+case)\n",
    "\n",
    "len(ls_dir(ROOT + \"/UKBIOBANK\"))\n"
   ]
  },
  {
   "attachments": {},
   "cell_type": "markdown",
   "metadata": {},
   "source": [
    "# TCGA Genetics"
   ]
  },
  {
   "cell_type": "code",
   "execution_count": 47,
   "metadata": {},
   "outputs": [],
   "source": [
    "import pandas as pd\n",
    "import json\n",
    "\n",
    "TCGA_meta = pd.read_csv(\"/home/tbarba/projects/MultiModalBrainSurvival/data/metadata/TCGA_survival_data.csv\")\n",
    "\n",
    "\n",
    "files = [\"R132H.json\", \"R132C.json\",\"R132G.json\",\"R132S.json\"]\n",
    "\n",
    "dict_muts = dict()\n",
    "for file in files:\n",
    "    with open(file, \"r\") as mutation:\n",
    "        mut = file[:-5]\n",
    "        mutation=  json.load(mutation)\n",
    "        mutation = {mutation[c][\"submitter_id\"]:mut for c in range(len(mutation))}\n",
    "        dict_muts.update(mutation)\n",
    "\n",
    "IDH1_mutations = []\n",
    "for i, row in TCGA_meta.iterrows():\n",
    "    try:\n",
    "        IDH1_mutations.append(dict_muts[TCGA_meta.iloc[i][\"case\"]])\n",
    "    except KeyError:\n",
    "        IDH1_mutations.append(\"WT\")\n",
    "\n",
    "TCGA_meta['IDH1']  = IDH1_mutations\n",
    "TCGA_meta['IDH1_bin'] = TCGA_meta['IDH1'] != \"WT\"\n",
    "\n",
    "TCGA_meta.to_csv(\"/home/tbarba/projects/MultiModalBrainSurvival/data/metadata/TCGA_survival_data.csv\", index=False)\n",
    "\n"
   ]
  },
  {
   "cell_type": "code",
   "execution_count": null,
   "metadata": {},
   "outputs": [],
   "source": []
  }
 ],
 "metadata": {
  "kernelspec": {
   "display_name": "Python 3.9.0 ('multimodal')",
   "language": "python",
   "name": "python3"
  },
  "language_info": {
   "codemirror_mode": {
    "name": "ipython",
    "version": 3
   },
   "file_extension": ".py",
   "mimetype": "text/x-python",
   "name": "python",
   "nbconvert_exporter": "python",
   "pygments_lexer": "ipython3",
   "version": "3.9.0 | packaged by conda-forge | (default, Nov 26 2020, 07:57:39) \n[GCC 9.3.0]"
  },
  "orig_nbformat": 4,
  "vscode": {
   "interpreter": {
    "hash": "3912f28b9b2221de22e6cbc3ccde8326fd673d3f8bd54942b291cc59bdc1ddcf"
   }
  }
 },
 "nbformat": 4,
 "nbformat_minor": 2
}
