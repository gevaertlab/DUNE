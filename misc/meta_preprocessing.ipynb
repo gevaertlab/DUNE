{
 "cells": [
  {
   "attachments": {},
   "cell_type": "markdown",
   "metadata": {},
   "source": [
    "# Preprocessing des metadata UKB"
   ]
  },
  {
   "cell_type": "code",
   "execution_count": 4,
   "metadata": {},
   "outputs": [
    {
     "name": "stdout",
     "output_type": "stream",
     "text": [
      "0      False\n",
      "1      False\n",
      "2      False\n",
      "3      False\n",
      "4      False\n",
      "       ...  \n",
      "346    False\n",
      "348    False\n",
      "380    False\n",
      "382    False\n",
      "390    False\n",
      "Name: dump, Length: 199, dtype: bool\n"
     ]
    }
   ],
   "source": [
    "import pandas as pd\n",
    "import os\n",
    "\n",
    "os.chdir(\"/home/tbarba/projects/MultiModalBrainSurvival\")\n",
    "\n",
    "META = \"data/metadata/whole/UKB_metadata_whole.csv\"\n",
    "LIST_VAR = \"data/metadata/whole/UKB_variables_all.csv\"\n",
    "MR_DATASET = [int(c) for c in os.listdir(\"data/MR/UKBIOBANK\")]\n",
    "\n",
    "# IMPORT AND RENAMING VAR COLUMNS\n",
    "df = pd.read_csv(META)\n",
    "df = df[df['eid'].isin(MR_DATASET)]\n",
    "listvar = pd.read_csv(LIST_VAR)\n",
    "listvar = listvar[listvar['dump'] == False]\n",
    "newnames = {old:new for old,new in zip(listvar['var'], listvar['newname'])}\n",
    "df = df.rename(newnames, axis=1)\n",
    "\n",
    "# FILTERING DUMPED VARIABLES\n",
    "keep_var =  set(listvar[\"newname\"]) & set(df.columns)\n",
    "df = df[[\"eid\"] + list(keep_var)]\n",
    "\n",
    "\n",
    "# DUMP DATA WITH > 20% MISSINGNESS\n",
    "to_dump = []\n",
    "to_keep = []\n",
    "listvar = listvar[listvar['newname'].isin(keep_var)]\n",
    "\n",
    "for var in df.columns:\n",
    "    missingness = df[var].isna().sum(axis=0) / df.shape[0]\n",
    "    if missingness > .20:\n",
    "        to_dump.append(var)\n",
    "    else:\n",
    "        to_keep.append(var)\n",
    "\n",
    "final_df = df[to_keep]\n",
    "final_df = final_df.set_index(\"eid\")\n",
    "\n",
    "\n",
    "# EXPORTING METADATA FILES\n",
    "final_df.to_csv(\"data/metadata/UKB_metadata_filtered.csv\", index=True)\n",
    "listvar.to_csv(\"data/metadata/UKB_variables_list.csv\", index=False)"
   ]
  }
 ],
 "metadata": {
  "kernelspec": {
   "display_name": "multimodal",
   "language": "python",
   "name": "python3"
  },
  "language_info": {
   "codemirror_mode": {
    "name": "ipython",
    "version": 3
   },
   "file_extension": ".py",
   "mimetype": "text/x-python",
   "name": "python",
   "nbconvert_exporter": "python",
   "pygments_lexer": "ipython3",
   "version": "3.9.0"
  },
  "orig_nbformat": 4,
  "vscode": {
   "interpreter": {
    "hash": "3912f28b9b2221de22e6cbc3ccde8326fd673d3f8bd54942b291cc59bdc1ddcf"
   }
  }
 },
 "nbformat": 4,
 "nbformat_minor": 2
}
